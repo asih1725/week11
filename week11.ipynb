{
  "nbformat": 4,
  "nbformat_minor": 0,
  "metadata": {
    "colab": {
      "provenance": [],
      "authorship_tag": "ABX9TyPasbTFrEi2Z/B5UGjroDub",
      "include_colab_link": true
    },
    "kernelspec": {
      "name": "python3",
      "display_name": "Python 3"
    },
    "language_info": {
      "name": "python"
    }
  },
  "cells": [
    {
      "cell_type": "markdown",
      "metadata": {
        "id": "view-in-github",
        "colab_type": "text"
      },
      "source": [
        "<a href=\"https://colab.research.google.com/github/asih1725/week11/blob/main/week11.ipynb\" target=\"_parent\"><img src=\"https://colab.research.google.com/assets/colab-badge.svg\" alt=\"Open In Colab\"/></a>"
      ]
    },
    {
      "cell_type": "code",
      "source": [
        "import sys\n",
        "sys.path.append('/content')"
      ],
      "metadata": {
        "id": "oxb5MLKi8_dd"
      },
      "execution_count": null,
      "outputs": []
    },
    {
      "cell_type": "code",
      "source": [
        "import myModule\n",
        "\n",
        "myModule.greeting(\"asih\")"
      ],
      "metadata": {
        "colab": {
          "base_uri": "https://localhost:8080/"
        },
        "id": "dOaHrzC6LqE8",
        "outputId": "effc108c-e277-4e9e-f9b6-0ba5dfdb3a1d"
      },
      "execution_count": null,
      "outputs": [
        {
          "output_type": "stream",
          "name": "stdout",
          "text": [
            "Hello, asih\n"
          ]
        }
      ]
    },
    {
      "cell_type": "code",
      "source": [
        "#Import the module named mymodule, and access the person1 dictionary:\n",
        "\n",
        "import mymodule2\n",
        "\n",
        "a = mymodule2.person1[\"age\"]\n",
        "print(a)"
      ],
      "metadata": {
        "colab": {
          "base_uri": "https://localhost:8080/"
        },
        "id": "D1XrI_4sNRO7",
        "outputId": "729f7083-37c7-46f6-c275-cc76d2c50c82"
      },
      "execution_count": null,
      "outputs": [
        {
          "output_type": "stream",
          "name": "stdout",
          "text": [
            "36\n"
          ]
        }
      ]
    },
    {
      "cell_type": "code",
      "source": [
        "import platform\n",
        "\n",
        "x = platform.system()\n",
        "print(x)"
      ],
      "metadata": {
        "colab": {
          "base_uri": "https://localhost:8080/"
        },
        "id": "6mAmyY6CNX8j",
        "outputId": "0787783b-b20e-4c95-b6f0-ccb276dfe23d"
      },
      "execution_count": null,
      "outputs": [
        {
          "output_type": "stream",
          "name": "stdout",
          "text": [
            "Linux\n"
          ]
        }
      ]
    },
    {
      "cell_type": "code",
      "source": [
        "import platform\n",
        "\n",
        "x = dir(platform)\n",
        "print(x)"
      ],
      "metadata": {
        "colab": {
          "base_uri": "https://localhost:8080/"
        },
        "id": "-ltDRBX1Nb4r",
        "outputId": "def23566-8683-4447-feb8-0ca5a5cc3b6b"
      },
      "execution_count": null,
      "outputs": [
        {
          "output_type": "stream",
          "name": "stdout",
          "text": [
            "['_Processor', '_WIN32_CLIENT_RELEASES', '_WIN32_SERVER_RELEASES', '__builtins__', '__cached__', '__copyright__', '__doc__', '__file__', '__loader__', '__name__', '__package__', '__spec__', '__version__', '_comparable_version', '_component_re', '_default_architecture', '_follow_symlinks', '_get_machine_win32', '_ironpython26_sys_version_parser', '_ironpython_sys_version_parser', '_java_getprop', '_libc_search', '_mac_ver_xml', '_node', '_norm_version', '_os_release_cache', '_os_release_candidates', '_os_release_line', '_os_release_unescape', '_parse_os_release', '_platform', '_platform_cache', '_pypy_sys_version_parser', '_sys_version', '_sys_version_cache', '_sys_version_parser', '_syscmd_file', '_syscmd_ver', '_uname_cache', '_unknown_as_blank', '_ver_output', '_ver_stages', 'architecture', 'collections', 'freedesktop_os_release', 'functools', 'itertools', 'java_ver', 'libc_ver', 'mac_ver', 'machine', 'node', 'os', 'platform', 'processor', 'python_branch', 'python_build', 'python_compiler', 'python_implementation', 'python_revision', 'python_version', 'python_version_tuple', 're', 'release', 'subprocess', 'sys', 'system', 'system_alias', 'uname', 'uname_result', 'version', 'win32_edition', 'win32_is_iot', 'win32_ver']\n"
          ]
        }
      ]
    },
    {
      "cell_type": "code",
      "source": [
        "#Weekly Excercise 1\n",
        "\n",
        "import matematika as lk\n",
        "\n",
        "luas_lingkaran = lk.luas_lingkaran(radius=10)\n",
        "\n",
        "print(\"Luas Lingkaran: \", luas_lingkaran)"
      ],
      "metadata": {
        "colab": {
          "base_uri": "https://localhost:8080/"
        },
        "id": "8CSBJKozNn0b",
        "outputId": "16ccf578-702c-4b1d-b912-dd8ff23ce199"
      },
      "execution_count": null,
      "outputs": [
        {
          "output_type": "stream",
          "name": "stdout",
          "text": [
            "Luas Lingkaran:  314.0\n"
          ]
        }
      ]
    },
    {
      "cell_type": "code",
      "source": [
        "#Weekly excercise2\n",
        "\n",
        "import matematika2 as lpp\n",
        "\n",
        "luas_persegi_panjang = lpp.luas_persegi_panjang(p=15, l=5)\n",
        "\n",
        "print(\"Luas Persegi Panjang: \", luas_persegi_panjang)"
      ],
      "metadata": {
        "colab": {
          "base_uri": "https://localhost:8080/"
        },
        "id": "CdW1z-q7OoNU",
        "outputId": "5391adcb-3b6b-49ef-f888-c5a6220ad5e6"
      },
      "execution_count": null,
      "outputs": [
        {
          "output_type": "stream",
          "name": "stdout",
          "text": [
            "Luas Persegi Panjang:  75\n"
          ]
        }
      ]
    },
    {
      "cell_type": "code",
      "source": [
        "#Weekly excercise2\n",
        "\n",
        "import matematika2 as lst\n",
        "\n",
        "luas_segi_T = lst.luas_segi_T(a=90, t=6)\n",
        "\n",
        "print(\"Luas Segitiga: \", luas_segi_T)"
      ],
      "metadata": {
        "colab": {
          "base_uri": "https://localhost:8080/"
        },
        "id": "4m609RZzPASF",
        "outputId": "100cf53d-4c16-40da-e464-f6f248374d84"
      },
      "execution_count": null,
      "outputs": [
        {
          "output_type": "stream",
          "name": "stdout",
          "text": [
            "Luas Segitiga:  270.0\n"
          ]
        }
      ]
    },
    {
      "cell_type": "code",
      "source": [
        "#Weekly excercise2\n",
        "\n",
        "import matematika2 as vt\n",
        "\n",
        "vol_tabung = vt.vol_tabung(r=78, h=34)\n",
        "\n",
        "print(\"Volume Tabung: \", vol_tabung)"
      ],
      "metadata": {
        "colab": {
          "base_uri": "https://localhost:8080/"
        },
        "id": "gVpCJqBeUIqA",
        "outputId": "10c3683c-b268-4759-cec9-ca10c1d394ff"
      },
      "execution_count": null,
      "outputs": [
        {
          "output_type": "stream",
          "name": "stdout",
          "text": [
            "Volume Tabung:  649527.8400000001\n"
          ]
        }
      ]
    },
    {
      "cell_type": "code",
      "source": [
        "#Weekly excercise2\n",
        "\n",
        "import matematika2 as jg\n",
        "\n",
        "jej_gen = jg.jej_gen(a=15, t=6)\n",
        "\n",
        "print(\"Luas Jajar Genjang: \", jej_gen)"
      ],
      "metadata": {
        "colab": {
          "base_uri": "https://localhost:8080/"
        },
        "id": "EwzrwTJSUk0X",
        "outputId": "422e44f2-2caf-41b2-c79c-fd0bc7f806d4"
      },
      "execution_count": null,
      "outputs": [
        {
          "output_type": "stream",
          "name": "stdout",
          "text": [
            "Luas Jajar Genjang:  90\n"
          ]
        }
      ]
    },
    {
      "cell_type": "code",
      "source": [
        "#Weekly excercise2\n",
        "\n",
        "import matematika2 as tt\n",
        "\n",
        "trp_trape = tt.trp_trape(a=5, b=6, t=7)\n",
        "\n",
        "print(\"Luas Trapesium: \", trp_trape)\n",
        "\n"
      ],
      "metadata": {
        "colab": {
          "base_uri": "https://localhost:8080/"
        },
        "id": "xSiCwlrBUiWF",
        "outputId": "1d8e901b-fd3e-4808-b5ba-3c023f2c8a1d"
      },
      "execution_count": null,
      "outputs": [
        {
          "output_type": "stream",
          "name": "stdout",
          "text": [
            "Luas Trapesium:  38.5\n"
          ]
        }
      ]
    },
    {
      "cell_type": "code",
      "source": [
        "#Weekly excercise2\n",
        "import matematika2 as lpp\n",
        "\n",
        "luas_persegi_panjang = lpp.luas_persegi_panjang(p=15, l=5)\n",
        "\n",
        "print(\"Luas Persegi Panjang: \", luas_persegi_panjang)\n",
        "\n",
        "\n",
        "import matematika2 as lst\n",
        "\n",
        "luas_segi_T = lst.luas_segi_T(a=90, t=6)\n",
        "\n",
        "print(\"Luas Segitiga: \", luas_segi_T)\n",
        "\n",
        "\n",
        "import matematika2 as vt\n",
        "\n",
        "vol_tabung = vt.vol_tabung(r=78, h=34)\n",
        "\n",
        "print(\"Volume Tabung: \", vol_tabung)\n",
        "\n",
        "\n",
        "import matematika2 as jg\n",
        "\n",
        "jej_gen = jg.jej_gen(a=15, t=6)\n",
        "\n",
        "print(\"Luas Jajar Genjang: \", jej_gen)\n",
        "\n",
        "\n",
        "import matematika2 as tt\n",
        "\n",
        "trp_trape = tt.trp_trape(a=5, b=6, t=7)\n",
        "\n",
        "print(\"Luas Trapesium: \", trp_trape)"
      ],
      "metadata": {
        "colab": {
          "base_uri": "https://localhost:8080/"
        },
        "id": "5IGVVsjMmKIZ",
        "outputId": "06e2c60b-8b96-48e7-f200-27fff37e520a"
      },
      "execution_count": 8,
      "outputs": [
        {
          "output_type": "stream",
          "name": "stdout",
          "text": [
            "Luas Persegi Panjang:  75\n",
            "Luas Segitiga:  270.0\n",
            "Volume Tabung:  649527.8400000001\n",
            "Luas Jajar Genjang:  90\n",
            "Luas Trapesium:  38.5\n"
          ]
        }
      ]
    }
  ]
}